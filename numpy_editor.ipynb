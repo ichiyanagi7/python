{
  "nbformat": 4,
  "nbformat_minor": 0,
  "metadata": {
    "kernelspec": {
      "display_name": "Python 3",
      "language": "python",
      "name": "python3"
    },
    "language_info": {
      "codemirror_mode": {
        "name": "ipython",
        "version": 3
      },
      "file_extension": ".py",
      "mimetype": "text/x-python",
      "name": "python",
      "nbconvert_exporter": "python",
      "pygments_lexer": "ipython3",
      "version": "3.7.6"
    },
    "colab": {
      "name": "numpy_editor.ipynb",
      "provenance": [],
      "collapsed_sections": [],
      "include_colab_link": true
    },
    "accelerator": "GPU"
  },
  "cells": [
    {
      "cell_type": "markdown",
      "metadata": {
        "id": "view-in-github",
        "colab_type": "text"
      },
      "source": [
        "<a href=\"https://colab.research.google.com/github/ichiyanagi7/python/blob/main/numpy_editor.ipynb\" target=\"_parent\"><img src=\"https://colab.research.google.com/assets/colab-badge.svg\" alt=\"Open In Colab\"/></a>"
      ]
    },
    {
      "cell_type": "markdown",
      "metadata": {
        "id": "JNMqXLCrMvJ4"
      },
      "source": [
        "# numpy exercises\n",
        "\n",
        "\n",
        "1. データの状態を確認する方法について学習します。（4問）\n",
        "2. 配列について学習します。（4問）\n",
        "3. スライスについて学習します。（5問）\n",
        "4. 行列について学習します。（基礎）（6問）\n",
        "5. 行列について学習します。（応用）（7問）\n",
        "6. numpyでよく使う機能について学習します。（14問）"
      ]
    },
    {
      "cell_type": "markdown",
      "metadata": {
        "id": "z0Q76wSgMvJ8"
      },
      "source": [
        "### 0. 事前準備"
      ]
    },
    {
      "cell_type": "markdown",
      "metadata": {
        "id": "PJzIkg_LMvJ9"
      },
      "source": [
        "#### 0.1 「numpyを読み込んでください。」"
      ]
    },
    {
      "cell_type": "code",
      "metadata": {
        "id": "JrUSDyBiMvJ9"
      },
      "source": [
        "import numpy as np"
      ],
      "execution_count": 1,
      "outputs": []
    },
    {
      "cell_type": "markdown",
      "metadata": {
        "id": "XKChPCCPMvJ-"
      },
      "source": [
        "#### 0.2 「以下のコードを読み込んでください。」"
      ]
    },
    {
      "cell_type": "code",
      "metadata": {
        "colab": {
          "base_uri": "https://localhost:8080/"
        },
        "id": "MMd4ur8iMvJ_",
        "outputId": "01b45c0b-4b3e-4431-a197-578a7a5e4bd1"
      },
      "source": [
        "a = np.arange(15).reshape(3, 5)\n",
        "a"
      ],
      "execution_count": null,
      "outputs": [
        {
          "output_type": "execute_result",
          "data": {
            "text/plain": [
              "array([[ 0,  1,  2,  3,  4],\n",
              "       [ 5,  6,  7,  8,  9],\n",
              "       [10, 11, 12, 13, 14]])"
            ]
          },
          "metadata": {},
          "execution_count": 8
        }
      ]
    },
    {
      "cell_type": "markdown",
      "metadata": {
        "id": "1xM64pObMvKA"
      },
      "source": [
        "### 1. データの状態を確認する方法について学習します。（4問）"
      ]
    },
    {
      "cell_type": "markdown",
      "metadata": {
        "id": "7tncuPJDMvKB"
      },
      "source": [
        "#### 1.1 「行列の大きさを確認してください。」"
      ]
    },
    {
      "cell_type": "code",
      "metadata": {
        "colab": {
          "base_uri": "https://localhost:8080/"
        },
        "id": "3jH4q5nsMvKB",
        "outputId": "72e49b20-7ca9-407f-a735-9b7d2b28a2c9"
      },
      "source": [
        "a.shape"
      ],
      "execution_count": null,
      "outputs": [
        {
          "output_type": "execute_result",
          "data": {
            "text/plain": [
              "(3, 5)"
            ]
          },
          "metadata": {},
          "execution_count": 7
        }
      ]
    },
    {
      "cell_type": "markdown",
      "metadata": {
        "id": "_NqCSBamMvKC"
      },
      "source": [
        "#### 1.2 「行列の軸数（次元）を確認してください。」"
      ]
    },
    {
      "cell_type": "code",
      "metadata": {
        "colab": {
          "base_uri": "https://localhost:8080/"
        },
        "id": "zoaBN5r1MvKC",
        "outputId": "0272b80e-57a9-4bab-8340-6804fcf6953a"
      },
      "source": [
        "a.ndim"
      ],
      "execution_count": null,
      "outputs": [
        {
          "output_type": "execute_result",
          "data": {
            "text/plain": [
              "2"
            ]
          },
          "metadata": {},
          "execution_count": 10
        }
      ]
    },
    {
      "cell_type": "markdown",
      "metadata": {
        "id": "NiH_I8dxMvKD"
      },
      "source": [
        "#### 1.3 「行列のデータ型を確認してください。」"
      ]
    },
    {
      "cell_type": "code",
      "metadata": {
        "colab": {
          "base_uri": "https://localhost:8080/"
        },
        "id": "aET-LcKTMvKD",
        "outputId": "d3389500-ae84-4531-bc35-3530b6722b8b"
      },
      "source": [
        "type(a)"
      ],
      "execution_count": null,
      "outputs": [
        {
          "output_type": "execute_result",
          "data": {
            "text/plain": [
              "numpy.ndarray"
            ]
          },
          "metadata": {},
          "execution_count": 16
        }
      ]
    },
    {
      "cell_type": "markdown",
      "metadata": {
        "id": "T2ccmStqMvKD"
      },
      "source": [
        "#### 1.4 「行列の配列要素を確認してください。」"
      ]
    },
    {
      "cell_type": "code",
      "metadata": {
        "colab": {
          "base_uri": "https://localhost:8080/"
        },
        "id": "wHPxiwkbMvKE",
        "outputId": "6ca936f8-c777-4052-f802-0125f549406e"
      },
      "source": [
        "a.dtype"
      ],
      "execution_count": null,
      "outputs": [
        {
          "output_type": "execute_result",
          "data": {
            "text/plain": [
              "dtype('int64')"
            ]
          },
          "metadata": {},
          "execution_count": 17
        }
      ]
    },
    {
      "cell_type": "markdown",
      "metadata": {
        "id": "X6OZZdAWMvKE"
      },
      "source": [
        "### 2. 配列について学習します。（4問）"
      ]
    },
    {
      "cell_type": "markdown",
      "metadata": {
        "id": "lMVps_q6MvKE"
      },
      "source": [
        "#### 2.1 「8つの「0」が入る配列を作成してください。」"
      ]
    },
    {
      "cell_type": "code",
      "metadata": {
        "colab": {
          "base_uri": "https://localhost:8080/"
        },
        "id": "WvVJiWJjMvKE",
        "outputId": "ee9d2cf3-2561-4de5-88ef-ed505b59578e"
      },
      "source": [
        "data=np.zeros([8])\n",
        "print(data)"
      ],
      "execution_count": null,
      "outputs": [
        {
          "output_type": "stream",
          "name": "stdout",
          "text": [
            "[0. 0. 0. 0. 0. 0. 0. 0.]\n"
          ]
        }
      ]
    },
    {
      "cell_type": "markdown",
      "metadata": {
        "id": "n1-PlEgNMvKF"
      },
      "source": [
        "#### 2.2 「8つの「0」が入る配列を作成し、5番目の値を「1」に変えてください。」"
      ]
    },
    {
      "cell_type": "code",
      "metadata": {
        "colab": {
          "base_uri": "https://localhost:8080/"
        },
        "id": "YqqNP5VaMvKF",
        "outputId": "7d0f230f-15dc-4647-e1e6-54197538a5db"
      },
      "source": [
        "data=np.zeros([8])\n",
        "np.put(data,[4],1)\n",
        "print(data)"
      ],
      "execution_count": null,
      "outputs": [
        {
          "output_type": "stream",
          "name": "stdout",
          "text": [
            "[0. 0. 0. 0. 1. 0. 0. 0.]\n"
          ]
        }
      ]
    },
    {
      "cell_type": "markdown",
      "metadata": {
        "id": "cSwOBkNUMvKF"
      },
      "source": [
        "#### 2.3 「10～49までの数字が昇順で入った配列を作成してください。」"
      ]
    },
    {
      "cell_type": "code",
      "metadata": {
        "colab": {
          "base_uri": "https://localhost:8080/"
        },
        "id": "-PEXRPTWMvKF",
        "outputId": "c47b451d-36ca-41eb-b389-0d73ebb56d66"
      },
      "source": [
        "data=np.arange(10,50)\n",
        "print(data)"
      ],
      "execution_count": null,
      "outputs": [
        {
          "output_type": "stream",
          "name": "stdout",
          "text": [
            "[10 11 12 13 14 15 16 17 18 19 20 21 22 23 24 25 26 27 28 29 30 31 32 33\n",
            " 34 35 36 37 38 39 40 41 42 43 44 45 46 47 48 49]\n"
          ]
        }
      ]
    },
    {
      "cell_type": "markdown",
      "metadata": {
        "id": "OFprS7HJMvKF"
      },
      "source": [
        "#### 2.4 「0～39までの数字が降順で入った配列を作成してください。」"
      ]
    },
    {
      "cell_type": "code",
      "metadata": {
        "colab": {
          "base_uri": "https://localhost:8080/"
        },
        "id": "amXQ_GqrMvKG",
        "outputId": "c1228772-1332-4f25-84a0-00975ca12099"
      },
      "source": [
        "data=np.arange(40)[::-1]\n",
        "print(data)"
      ],
      "execution_count": null,
      "outputs": [
        {
          "output_type": "stream",
          "name": "stdout",
          "text": [
            "[39 38 37 36 35 34 33 32 31 30 29 28 27 26 25 24 23 22 21 20 19 18 17 16\n",
            " 15 14 13 12 11 10  9  8  7  6  5  4  3  2  1  0]\n"
          ]
        }
      ]
    },
    {
      "cell_type": "markdown",
      "metadata": {
        "id": "N1de-vvZMvKG"
      },
      "source": [
        "### 3. スライスについて学習します。（5問）"
      ]
    },
    {
      "cell_type": "markdown",
      "metadata": {
        "id": "ZhEghTLJMvKG"
      },
      "source": [
        "#### 3.1 「0~9までの数字が入った配列を作成してください。」"
      ]
    },
    {
      "cell_type": "code",
      "metadata": {
        "colab": {
          "base_uri": "https://localhost:8080/"
        },
        "id": "ZDBRQv_1MvKG",
        "outputId": "9896e39b-f6ba-48d7-bfde-fdb17de11e9c"
      },
      "source": [
        "data=np.arange(10)\n",
        "print(data)"
      ],
      "execution_count": null,
      "outputs": [
        {
          "output_type": "stream",
          "name": "stdout",
          "text": [
            "[0 1 2 3 4 5 6 7 8 9]\n"
          ]
        }
      ]
    },
    {
      "cell_type": "markdown",
      "metadata": {
        "id": "L9otoqWhMvKG"
      },
      "source": [
        "#### 3.2 「スライス（:）を使用して、3.1で作成した配列から下記の配列を取り出して下さい。」"
      ]
    },
    {
      "cell_type": "code",
      "metadata": {
        "colab": {
          "base_uri": "https://localhost:8080/"
        },
        "id": "YbtWJ8j5MvKG",
        "outputId": "5626ce35-fb1b-497d-b181-6856dfaffe45"
      },
      "source": [
        "print(data[4:8])"
      ],
      "execution_count": null,
      "outputs": [
        {
          "output_type": "stream",
          "name": "stdout",
          "text": [
            "[4 5 6 7]\n"
          ]
        }
      ]
    },
    {
      "cell_type": "markdown",
      "metadata": {
        "id": "Pu2UHUgTMvKH"
      },
      "source": [
        "#### 3.3 「スライス（:）を使用して、3.1で作成した配列から「マイナス」を使用して下記の配列を取り出して下さい。」"
      ]
    },
    {
      "cell_type": "code",
      "metadata": {
        "colab": {
          "base_uri": "https://localhost:8080/"
        },
        "id": "FYtUm0J0MvKH",
        "outputId": "d2f2349a-188c-4ed4-fca7-760e1bf9760c"
      },
      "source": [
        "print(data[-7 : -2])"
      ],
      "execution_count": null,
      "outputs": [
        {
          "output_type": "stream",
          "name": "stdout",
          "text": [
            "[3 4 5 6 7]\n"
          ]
        }
      ]
    },
    {
      "cell_type": "markdown",
      "metadata": {
        "id": "-EuE-1nhMvKH"
      },
      "source": [
        "#### 3.4 「スライス（:）を使用して、3.1で作成した配列から「マイナス」を使用して下記の配列を取り出して下さい。」"
      ]
    },
    {
      "cell_type": "code",
      "metadata": {
        "colab": {
          "base_uri": "https://localhost:8080/"
        },
        "id": "7TSULjlfMvKH",
        "outputId": "686122b8-528c-4f4b-a2e0-80119692f7f4"
      },
      "source": [
        "print(data[::-1])"
      ],
      "execution_count": null,
      "outputs": [
        {
          "output_type": "stream",
          "name": "stdout",
          "text": [
            "[9 8 7 6 5 4 3 2 1 0]\n"
          ]
        }
      ]
    },
    {
      "cell_type": "markdown",
      "metadata": {
        "id": "A9ot-0a_MvKH"
      },
      "source": [
        "#### 3.5 「スライス（:）を使用して、3.1で作成した配列から下記の配列を取り出して下さい。」"
      ]
    },
    {
      "cell_type": "code",
      "metadata": {
        "colab": {
          "base_uri": "https://localhost:8080/"
        },
        "id": "TwCtxvq-MvKH",
        "outputId": "0d69627b-7298-43e4-feec-0fba513fb5a4"
      },
      "source": [
        "print(data[2:8:2])"
      ],
      "execution_count": null,
      "outputs": [
        {
          "output_type": "stream",
          "name": "stdout",
          "text": [
            "[2 4 6]\n"
          ]
        }
      ]
    },
    {
      "cell_type": "markdown",
      "metadata": {
        "id": "mSoi9wYGMvKH"
      },
      "source": [
        "### 4. 行列について学習します（基礎）（6問）"
      ]
    },
    {
      "cell_type": "markdown",
      "metadata": {
        "id": "h36YTH4MMvKI"
      },
      "source": [
        "#### 4.1 「0～8までの数字が昇順で入った配列を作成し、3×3の行列を作成してください。」"
      ]
    },
    {
      "cell_type": "code",
      "metadata": {
        "colab": {
          "base_uri": "https://localhost:8080/"
        },
        "id": "YfN4ua9lMvKI",
        "outputId": "8f80a3f8-8d81-4aaa-d931-5362bfa2b2d8"
      },
      "source": [
        "data4=np.arange(9).reshape(3,3)\n",
        "print(data4)"
      ],
      "execution_count": null,
      "outputs": [
        {
          "output_type": "stream",
          "name": "stdout",
          "text": [
            "[[0 1 2]\n",
            " [3 4 5]\n",
            " [6 7 8]]\n"
          ]
        }
      ]
    },
    {
      "cell_type": "markdown",
      "metadata": {
        "id": "7golml-QMvKI"
      },
      "source": [
        "#### 4.2 「任意の「0」が入っている配列を作成し、「0」以外が入っているインデックスを取得してください。」"
      ]
    },
    {
      "cell_type": "code",
      "metadata": {
        "colab": {
          "base_uri": "https://localhost:8080/"
        },
        "id": "Ss1zEPbAMvKI",
        "outputId": "925b2480-7079-43c7-dce1-2a6509b50da4"
      },
      "source": [
        "data=np.nonzero([1,0,3,0,0,6,7])\n",
        "print(data)"
      ],
      "execution_count": null,
      "outputs": [
        {
          "output_type": "stream",
          "name": "stdout",
          "text": [
            "(array([0, 2, 5, 6]),)\n"
          ]
        }
      ]
    },
    {
      "cell_type": "markdown",
      "metadata": {
        "id": "MeI2u_6pMvKI"
      },
      "source": [
        "#### 4.3 「3×3の正方行列を作成してください。」"
      ]
    },
    {
      "cell_type": "code",
      "metadata": {
        "colab": {
          "base_uri": "https://localhost:8080/"
        },
        "id": "D_yIWOYfMvKJ",
        "outputId": "12d3866a-90e3-429a-d974-fbdf61af355f"
      },
      "source": [
        "data=np.eye(3)\n",
        "print(data)"
      ],
      "execution_count": null,
      "outputs": [
        {
          "output_type": "stream",
          "name": "stdout",
          "text": [
            "[[1. 0. 0.]\n",
            " [0. 1. 0.]\n",
            " [0. 0. 1.]]\n"
          ]
        }
      ]
    },
    {
      "cell_type": "markdown",
      "metadata": {
        "id": "hOQP38d7MvKJ"
      },
      "source": [
        "#### 4.4 「3×3×3のランダム値を持つ行列を作成してください。」"
      ]
    },
    {
      "cell_type": "code",
      "metadata": {
        "colab": {
          "base_uri": "https://localhost:8080/"
        },
        "id": "Fau_qZVPMvKJ",
        "outputId": "dd3eb239-f533-406f-ec84-ff63440bb14b"
      },
      "source": [
        "from numpy.random import *\n",
        "rand(3,3,3)"
      ],
      "execution_count": null,
      "outputs": [
        {
          "output_type": "execute_result",
          "data": {
            "text/plain": [
              "array([[[0.50381915, 0.31510105, 0.56371855],\n",
              "        [0.52682066, 0.14896041, 0.81381925],\n",
              "        [0.30888596, 0.86096616, 0.48684517]],\n",
              "\n",
              "       [[0.71679768, 0.63629363, 0.99518757],\n",
              "        [0.00685249, 0.02021316, 0.18207831],\n",
              "        [0.73333663, 0.4053388 , 0.84598896]],\n",
              "\n",
              "       [[0.2551097 , 0.34784145, 0.99591657],\n",
              "        [0.04885424, 0.33613536, 0.66784032],\n",
              "        [0.7702522 , 0.21366356, 0.82637913]]])"
            ]
          },
          "metadata": {},
          "execution_count": 69
        }
      ]
    },
    {
      "cell_type": "markdown",
      "metadata": {
        "id": "eFiDHW_VMvKJ"
      },
      "source": [
        "#### 4.5 「10×10のランダム値を持つ行列を作成し、最小値と最大値を出力してください。」"
      ]
    },
    {
      "cell_type": "code",
      "metadata": {
        "colab": {
          "base_uri": "https://localhost:8080/"
        },
        "id": "-o7Wu-JuMvKJ",
        "outputId": "8663b300-582f-4840-8350-bf55b87d9736"
      },
      "source": [
        "data10=rand(10,10)\n",
        "print(np.amin(data10))\n",
        "print(np.amax(data10))"
      ],
      "execution_count": null,
      "outputs": [
        {
          "output_type": "stream",
          "name": "stdout",
          "text": [
            "0.015190127365382167\n",
            "0.9957777727232754\n"
          ]
        }
      ]
    },
    {
      "cell_type": "markdown",
      "metadata": {
        "id": "Hcm-teP8MvKJ"
      },
      "source": [
        "#### 4.6 「10×10のランダム値を持つ行列を作成し、平均値を出力してください。」"
      ]
    },
    {
      "cell_type": "code",
      "metadata": {
        "colab": {
          "base_uri": "https://localhost:8080/"
        },
        "id": "mFrTG0H4MvKJ",
        "outputId": "50099a67-c62e-46dc-a719-b9143cdb4007"
      },
      "source": [
        "np.average(data10)"
      ],
      "execution_count": null,
      "outputs": [
        {
          "output_type": "execute_result",
          "data": {
            "text/plain": [
              "0.49781938404968934"
            ]
          },
          "metadata": {},
          "execution_count": 83
        }
      ]
    },
    {
      "cell_type": "markdown",
      "metadata": {
        "id": "1BgPbw_RMvKJ"
      },
      "source": [
        "### 5. 行列について学習します（応用）（7問）"
      ]
    },
    {
      "cell_type": "markdown",
      "metadata": {
        "id": "1uj6cslhMvKK"
      },
      "source": [
        "#### 5.1 「10×10の大きさの、外側だけ値が「1」、内側が全て値が「0」の行列を作成してください。」"
      ]
    },
    {
      "cell_type": "code",
      "metadata": {
        "colab": {
          "base_uri": "https://localhost:8080/"
        },
        "id": "GKtRNn-aMvKK",
        "outputId": "4253ee23-b232-4927-989e-9d1c1a6e3631"
      },
      "source": [
        "data=np.ones((10,10))\n",
        "data[1:9,1:9]=0\n",
        "print(data)\n",
        "\n"
      ],
      "execution_count": null,
      "outputs": [
        {
          "output_type": "stream",
          "name": "stdout",
          "text": [
            "[[1. 1. 1. 1. 1. 1. 1. 1. 1. 1.]\n",
            " [1. 0. 0. 0. 0. 0. 0. 0. 0. 1.]\n",
            " [1. 0. 0. 0. 0. 0. 0. 0. 0. 1.]\n",
            " [1. 0. 0. 0. 0. 0. 0. 0. 0. 1.]\n",
            " [1. 0. 0. 0. 0. 0. 0. 0. 0. 1.]\n",
            " [1. 0. 0. 0. 0. 0. 0. 0. 0. 1.]\n",
            " [1. 0. 0. 0. 0. 0. 0. 0. 0. 1.]\n",
            " [1. 0. 0. 0. 0. 0. 0. 0. 0. 1.]\n",
            " [1. 0. 0. 0. 0. 0. 0. 0. 0. 1.]\n",
            " [1. 1. 1. 1. 1. 1. 1. 1. 1. 1.]]\n"
          ]
        }
      ]
    },
    {
      "cell_type": "markdown",
      "metadata": {
        "id": "p_q5G4hYMvKK"
      },
      "source": [
        "#### 5.2 「10×10の大きさの、外側だけ値が「0」、内側が全て値が「1」の行列を作成してください。」"
      ]
    },
    {
      "cell_type": "code",
      "metadata": {
        "colab": {
          "base_uri": "https://localhost:8080/"
        },
        "id": "VzzKPzNWMvKK",
        "outputId": "73eebeb4-49cb-476a-b926-96a95063e23d"
      },
      "source": [
        "data=np.zeros((10,10))\n",
        "data[1:9,1:9]=1\n",
        "print(data)"
      ],
      "execution_count": null,
      "outputs": [
        {
          "output_type": "stream",
          "name": "stdout",
          "text": [
            "[[0. 0. 0. 0. 0. 0. 0. 0. 0. 0.]\n",
            " [0. 1. 1. 1. 1. 1. 1. 1. 1. 0.]\n",
            " [0. 1. 1. 1. 1. 1. 1. 1. 1. 0.]\n",
            " [0. 1. 1. 1. 1. 1. 1. 1. 1. 0.]\n",
            " [0. 1. 1. 1. 1. 1. 1. 1. 1. 0.]\n",
            " [0. 1. 1. 1. 1. 1. 1. 1. 1. 0.]\n",
            " [0. 1. 1. 1. 1. 1. 1. 1. 1. 0.]\n",
            " [0. 1. 1. 1. 1. 1. 1. 1. 1. 0.]\n",
            " [0. 1. 1. 1. 1. 1. 1. 1. 1. 0.]\n",
            " [0. 0. 0. 0. 0. 0. 0. 0. 0. 0.]]\n"
          ]
        }
      ]
    },
    {
      "cell_type": "markdown",
      "metadata": {
        "id": "zRF5gxf_MvKK"
      },
      "source": [
        "#### 5.3「下記のような4×4の対角行列を作成してください。」"
      ]
    },
    {
      "cell_type": "code",
      "metadata": {
        "colab": {
          "base_uri": "https://localhost:8080/"
        },
        "id": "MOEKjWsEMvKK",
        "outputId": "d880660a-2080-4bd3-a2bd-1f90cad4f0ef"
      },
      "source": [
        "data=np.arange(1,5)\n",
        "print(np.diag(data))\n"
      ],
      "execution_count": null,
      "outputs": [
        {
          "output_type": "stream",
          "name": "stdout",
          "text": [
            "[[1 0 0 0]\n",
            " [0 2 0 0]\n",
            " [0 0 3 0]\n",
            " [0 0 0 4]]\n"
          ]
        }
      ]
    },
    {
      "cell_type": "markdown",
      "metadata": {
        "id": "B0Y7VcUUMvKK"
      },
      "source": [
        "#### 5.4 「下記のような8×8の行列を作成してください。」"
      ]
    },
    {
      "cell_type": "code",
      "metadata": {
        "colab": {
          "base_uri": "https://localhost:8080/"
        },
        "id": "dfNAFEyfMvKK",
        "outputId": "737d9caa-1e8c-4634-ad6a-25e251fbebc7"
      },
      "source": [
        "data=np.ones((8,8))\n",
        "data[::2,::2]=0\n",
        "data[1::2,1::2]=0\n",
        "print(data)"
      ],
      "execution_count": null,
      "outputs": [
        {
          "output_type": "stream",
          "name": "stdout",
          "text": [
            "[[0. 1. 0. 1. 0. 1. 0. 1.]\n",
            " [1. 0. 1. 0. 1. 0. 1. 0.]\n",
            " [0. 1. 0. 1. 0. 1. 0. 1.]\n",
            " [1. 0. 1. 0. 1. 0. 1. 0.]\n",
            " [0. 1. 0. 1. 0. 1. 0. 1.]\n",
            " [1. 0. 1. 0. 1. 0. 1. 0.]\n",
            " [0. 1. 0. 1. 0. 1. 0. 1.]\n",
            " [1. 0. 1. 0. 1. 0. 1. 0.]]\n"
          ]
        }
      ]
    },
    {
      "cell_type": "markdown",
      "metadata": {
        "id": "2T63xVi0MvKK"
      },
      "source": [
        "#### 5.5「3×5×2の行列を考えた時に、10番目の要素のインデックスを出力してください。」"
      ]
    },
    {
      "cell_type": "code",
      "metadata": {
        "colab": {
          "base_uri": "https://localhost:8080/"
        },
        "id": "KBrz35P6MvKL",
        "outputId": "ee14d443-39be-43f7-8a5e-2d825c12ff91"
      },
      "source": [
        "np.unravel_index(10,(3,5,2))"
      ],
      "execution_count": null,
      "outputs": [
        {
          "output_type": "execute_result",
          "data": {
            "text/plain": [
              "(1, 0, 0)"
            ]
          },
          "metadata": {},
          "execution_count": 2
        }
      ]
    },
    {
      "cell_type": "markdown",
      "metadata": {
        "id": "633wcT0WMvKL"
      },
      "source": [
        "#### 5.6「5×5のランダム値を持つ行列を作成し、行列内の最大値が1、最小値が0になるように正規化してください。」"
      ]
    },
    {
      "cell_type": "code",
      "metadata": {
        "id": "Z9UPqoQFMvKL",
        "colab": {
          "base_uri": "https://localhost:8080/"
        },
        "outputId": "517179ea-bb26-42ca-d1c4-d94789f517bf"
      },
      "source": [
        "data=np.random.random((5,5))\n",
        "datamax,datamin=data.max(),data.min()\n",
        "data=(data-datamin)/(datamax-datamin)\n",
        "print(data)"
      ],
      "execution_count": null,
      "outputs": [
        {
          "output_type": "stream",
          "name": "stdout",
          "text": [
            "[[0.         0.22093695 0.4099827  0.2608374  1.        ]\n",
            " [0.84714905 0.77854701 0.35208559 0.12921681 0.8400879 ]\n",
            " [0.10762344 0.15033032 0.31557629 0.26299896 0.7869374 ]\n",
            " [0.11373962 0.38460748 0.23678904 0.5433055  0.32353876]\n",
            " [0.8741328  0.75890451 0.74362039 0.77916666 0.0120808 ]]\n"
          ]
        }
      ]
    },
    {
      "cell_type": "markdown",
      "metadata": {
        "id": "sjNKMyIDMvKL"
      },
      "source": [
        "#### 5.7「5×3の値が全て1の行列と3×2の値が全て1の行列の掛け算を行ってください。」"
      ]
    },
    {
      "cell_type": "code",
      "metadata": {
        "id": "n1tQyAqmMvKL",
        "colab": {
          "base_uri": "https://localhost:8080/"
        },
        "outputId": "4c9b453b-655d-45f6-897a-694fd2281523"
      },
      "source": [
        "a=np.ones((5,3))\n",
        "b=np.ones((3,2))\n",
        "data=np.dot(a,b)\n",
        "print(data)"
      ],
      "execution_count": null,
      "outputs": [
        {
          "output_type": "stream",
          "name": "stdout",
          "text": [
            "[[3. 3.]\n",
            " [3. 3.]\n",
            " [3. 3.]\n",
            " [3. 3.]\n",
            " [3. 3.]]\n"
          ]
        }
      ]
    },
    {
      "cell_type": "markdown",
      "metadata": {
        "id": "2WO7RQPyMvKL"
      },
      "source": [
        "### 6. numpyでよく使用する機能について学習します。（14問）"
      ]
    },
    {
      "cell_type": "markdown",
      "metadata": {
        "id": "dnDrErPNMvKL"
      },
      "source": [
        "#### 6.1「0～10までの数字を昇順に並べた配列を作成し、4～8までの数字をマイナスに変えて出力してください。」"
      ]
    },
    {
      "cell_type": "code",
      "metadata": {
        "id": "TPUxMVm2MvKL",
        "colab": {
          "base_uri": "https://localhost:8080/"
        },
        "outputId": "af4c889f-f8fb-4e81-9b92-e1451263c95f"
      },
      "source": [
        "data=np.arange(11)\n",
        "data[4:9]*=-1\n",
        "print(data)"
      ],
      "execution_count": null,
      "outputs": [
        {
          "output_type": "stream",
          "name": "stdout",
          "text": [
            "[ 0  1  2  3 -4 -5 -6 -7 -8  9 10]\n"
          ]
        }
      ]
    },
    {
      "cell_type": "markdown",
      "metadata": {
        "id": "N29QNUL0MvKM"
      },
      "source": [
        "#### 6.2「ランダムな整数値を10個もつ配列を2つ作成し、その2つの配列の共通の値を出力してください。」"
      ]
    },
    {
      "cell_type": "code",
      "metadata": {
        "id": "E8V5JNKGMvKM",
        "colab": {
          "base_uri": "https://localhost:8080/"
        },
        "outputId": "63f3c905-8a1a-4224-c281-f49c043efa07"
      },
      "source": [
        "a=np.random.randint(0,10,10)\n",
        "b=np.random.randint(0,10,10)\n",
        "c=np.intersect1d(a,b)\n",
        "print(c)"
      ],
      "execution_count": null,
      "outputs": [
        {
          "output_type": "stream",
          "name": "stdout",
          "text": [
            "[3 5 6 7 9]\n"
          ]
        }
      ]
    },
    {
      "cell_type": "markdown",
      "metadata": {
        "id": "97DNVff8MvKM"
      },
      "source": [
        "#### 6.3「虚数を出力してください。」"
      ]
    },
    {
      "cell_type": "code",
      "metadata": {
        "id": "ZA-4UuWDMvKM",
        "colab": {
          "base_uri": "https://localhost:8080/"
        },
        "outputId": "abf51e70-9d4e-4e76-b2da-1c2f9854566b"
      },
      "source": [
        "np.emath.sqrt(-1)"
      ],
      "execution_count": null,
      "outputs": [
        {
          "output_type": "execute_result",
          "data": {
            "text/plain": [
              "1j"
            ]
          },
          "metadata": {},
          "execution_count": 16
        }
      ]
    },
    {
      "cell_type": "markdown",
      "metadata": {
        "id": "4JF9Y-TwMvKM"
      },
      "source": [
        "#### 6.4「今日の日付と明後日の日付を出力してください。」"
      ]
    },
    {
      "cell_type": "code",
      "metadata": {
        "id": "0sSDsm51MvKM",
        "colab": {
          "base_uri": "https://localhost:8080/"
        },
        "outputId": "0d4f2512-6b82-4e74-d03d-a7afa2ccf47b"
      },
      "source": [
        "today=np.datetime64('Today','D')\n",
        "day_after_tomorrow=np.datetime64('Today','D')+np.timedelta64(2,'D')\n",
        "print(today)\n",
        "print(day_after_tomorrow)"
      ],
      "execution_count": null,
      "outputs": [
        {
          "output_type": "stream",
          "name": "stdout",
          "text": [
            "2021-10-20\n",
            "2021-10-22\n"
          ]
        }
      ]
    },
    {
      "cell_type": "markdown",
      "metadata": {
        "id": "aoC-KUHUMvKM"
      },
      "source": [
        "#### 6.5「2019年11月の日付を配列として出力してください。」"
      ]
    },
    {
      "cell_type": "code",
      "metadata": {
        "id": "Ba7gfK0WMvKM",
        "colab": {
          "base_uri": "https://localhost:8080/"
        },
        "outputId": "feeb4fad-647a-4f85-98d7-626b3e830ccd"
      },
      "source": [
        "data=np.arange('2019-11','2019-12',dtype=\"datetime64[D]\")\n",
        "print(data)"
      ],
      "execution_count": null,
      "outputs": [
        {
          "output_type": "stream",
          "name": "stdout",
          "text": [
            "['2019-11-01' '2019-11-02' '2019-11-03' '2019-11-04' '2019-11-05'\n",
            " '2019-11-06' '2019-11-07' '2019-11-08' '2019-11-09' '2019-11-10'\n",
            " '2019-11-11' '2019-11-12' '2019-11-13' '2019-11-14' '2019-11-15'\n",
            " '2019-11-16' '2019-11-17' '2019-11-18' '2019-11-19' '2019-11-20'\n",
            " '2019-11-21' '2019-11-22' '2019-11-23' '2019-11-24' '2019-11-25'\n",
            " '2019-11-26' '2019-11-27' '2019-11-28' '2019-11-29' '2019-11-30']\n"
          ]
        }
      ]
    },
    {
      "cell_type": "markdown",
      "metadata": {
        "id": "aorumOOxMvKM"
      },
      "source": [
        "#### 6.6「ランダムの値を10個持つ配列を作成し、異なる3パターンで整数として出力してください。」"
      ]
    },
    {
      "cell_type": "code",
      "metadata": {
        "id": "CpgWNnZYMvKN",
        "colab": {
          "base_uri": "https://localhost:8080/"
        },
        "outputId": "dad72776-ce8c-4303-c3fb-51de9917ad81"
      },
      "source": [
        "data=np.random.uniform(0,10,10)\n",
        "\n",
        "print(data)\n",
        "print(data-data%1)\n",
        "print(np.floor(data))\n",
        "print(np.ceil(data)-1)"
      ],
      "execution_count": null,
      "outputs": [
        {
          "output_type": "stream",
          "name": "stdout",
          "text": [
            "[7.98859302 4.63078967 0.1627064  1.20125147 5.63665776 5.21860183\n",
            " 3.9759877  6.20569044 6.98592653 7.0938323 ]\n",
            "[7. 4. 0. 1. 5. 5. 3. 6. 6. 7.]\n",
            "[7. 4. 0. 1. 5. 5. 3. 6. 6. 7.]\n",
            "[7. 4. 0. 1. 5. 5. 3. 6. 6. 7.]\n"
          ]
        }
      ]
    },
    {
      "cell_type": "markdown",
      "metadata": {
        "id": "Lepy8lfrMvKN"
      },
      "source": [
        "#### 6.7「下記のような行列を作成してください。」"
      ]
    },
    {
      "cell_type": "code",
      "metadata": {
        "id": "zkMEFKt2MvKN",
        "colab": {
          "base_uri": "https://localhost:8080/"
        },
        "outputId": "d83c9c8b-0018-48a8-b2cc-a1e41f4463e8"
      },
      "source": [
        "data=np.zeros((5,5))\n",
        "data +=np.arange(5)\n",
        "print(data)"
      ],
      "execution_count": 3,
      "outputs": [
        {
          "output_type": "stream",
          "name": "stdout",
          "text": [
            "[[0. 1. 2. 3. 4.]\n",
            " [0. 1. 2. 3. 4.]\n",
            " [0. 1. 2. 3. 4.]\n",
            " [0. 1. 2. 3. 4.]\n",
            " [0. 1. 2. 3. 4.]]\n"
          ]
        }
      ]
    },
    {
      "cell_type": "markdown",
      "metadata": {
        "id": "c1tqV-02MvKN"
      },
      "source": [
        "#### 6.8「「0」と「1」は含めず、「0」～「1」の間を10分割した配列を作成してください。」"
      ]
    },
    {
      "cell_type": "code",
      "metadata": {
        "id": "eywPM9F6MvKN",
        "colab": {
          "base_uri": "https://localhost:8080/"
        },
        "outputId": "0cb1652f-fbdc-4c74-cb56-b261f622d0de"
      },
      "source": [
        "data=np.linspace(0,1,11,endpoint=False)[1:]\n",
        "print(data)"
      ],
      "execution_count": 12,
      "outputs": [
        {
          "output_type": "stream",
          "name": "stdout",
          "text": [
            "[0.09090909 0.18181818 0.27272727 0.36363636 0.45454545 0.54545455\n",
            " 0.63636364 0.72727273 0.81818182 0.90909091]\n"
          ]
        }
      ]
    },
    {
      "cell_type": "markdown",
      "metadata": {
        "id": "ysFzdr4qMvKN"
      },
      "source": [
        "#### 6.9「10のランダム値を持つ配列を作成し、値を昇順にして出力してください。」"
      ]
    },
    {
      "cell_type": "code",
      "metadata": {
        "id": "u42we-CEMvKN",
        "colab": {
          "base_uri": "https://localhost:8080/"
        },
        "outputId": "3627a5b5-4507-481c-f343-c3325d8d34c1"
      },
      "source": [
        "data=np.random.random(10)\n",
        "data.sort()\n",
        "print(data)"
      ],
      "execution_count": 16,
      "outputs": [
        {
          "output_type": "stream",
          "name": "stdout",
          "text": [
            "[0.01654448 0.05703011 0.24563345 0.25039177 0.31767589 0.37676374\n",
            " 0.43116042 0.44852091 0.72913028 0.92845855]\n"
          ]
        }
      ]
    },
    {
      "cell_type": "markdown",
      "metadata": {
        "id": "nmg3pHb4MvKN"
      },
      "source": [
        "#### 6.10「10のランダム値を持つ配列を作成し、MAX値に「0」を置き換えて出力してください。」"
      ]
    },
    {
      "cell_type": "code",
      "metadata": {
        "id": "UJM19jCJMvKN",
        "colab": {
          "base_uri": "https://localhost:8080/"
        },
        "outputId": "acf015c6-0e6b-4d2e-f880-6aede608bf04"
      },
      "source": [
        "data=np.random.random(10)\n",
        "data[data.argmax()]=0\n",
        "print(data)"
      ],
      "execution_count": 21,
      "outputs": [
        {
          "output_type": "stream",
          "name": "stdout",
          "text": [
            "[0.36245365 0.46150016 0.6212729  0.78167117 0.6256853  0.\n",
            " 0.03213494 0.61037494 0.15380356 0.27176575]\n"
          ]
        }
      ]
    },
    {
      "cell_type": "markdown",
      "metadata": {
        "id": "bSf0DP3QMvKO"
      },
      "source": [
        "#### 6.11「下記のような値が軸単位で昇順になっている行列を作成してください。」"
      ]
    },
    {
      "cell_type": "code",
      "metadata": {
        "id": "2CHLn9BeMvKO",
        "colab": {
          "base_uri": "https://localhost:8080/"
        },
        "outputId": "7d014861-f233-4b7e-8b72-8640866e51c8"
      },
      "source": [
        "data=np.zeros((5,5),[('x',float),('y',float)])\n",
        "data['x'],data['y']=np.meshgrid(np.linspace(0,1,5),np.linspace(0,1,5))\n",
        "print(data)"
      ],
      "execution_count": 24,
      "outputs": [
        {
          "output_type": "stream",
          "name": "stdout",
          "text": [
            "[[(0.  , 0.  ) (0.25, 0.  ) (0.5 , 0.  ) (0.75, 0.  ) (1.  , 0.  )]\n",
            " [(0.  , 0.25) (0.25, 0.25) (0.5 , 0.25) (0.75, 0.25) (1.  , 0.25)]\n",
            " [(0.  , 0.5 ) (0.25, 0.5 ) (0.5 , 0.5 ) (0.75, 0.5 ) (1.  , 0.5 )]\n",
            " [(0.  , 0.75) (0.25, 0.75) (0.5 , 0.75) (0.75, 0.75) (1.  , 0.75)]\n",
            " [(0.  , 1.  ) (0.25, 1.  ) (0.5 , 1.  ) (0.75, 1.  ) (1.  , 1.  )]]\n"
          ]
        }
      ]
    },
    {
      "cell_type": "markdown",
      "metadata": {
        "id": "f_0BLmvsMvKO"
      },
      "source": [
        "#### 6.12「3×3の値が昇順になっている行列を作成し、インデックスと値を出力してください。」"
      ]
    },
    {
      "cell_type": "code",
      "metadata": {
        "id": "TBQTm_PkMvKO",
        "colab": {
          "base_uri": "https://localhost:8080/"
        },
        "outputId": "a8da70df-c355-46a6-a15b-2ce2410c5ca8"
      },
      "source": [
        "data=np.arange(9).reshape(3,3)\n",
        "for index,y in np.ndenumerate(data):\n",
        "  print(index,y)"
      ],
      "execution_count": 29,
      "outputs": [
        {
          "output_type": "stream",
          "name": "stdout",
          "text": [
            "(0, 0) 0\n",
            "(0, 1) 1\n",
            "(0, 2) 2\n",
            "(1, 0) 3\n",
            "(1, 1) 4\n",
            "(1, 2) 5\n",
            "(2, 0) 6\n",
            "(2, 1) 7\n",
            "(2, 2) 8\n"
          ]
        }
      ]
    },
    {
      "cell_type": "markdown",
      "metadata": {
        "id": "V4Kj1gsbMvKO"
      },
      "source": [
        "#### 6.13「10×10の「0」行列を作成し、ランダムで20個「1」に変更してください。」"
      ]
    },
    {
      "cell_type": "code",
      "metadata": {
        "id": "zsZwaBCZMvKO",
        "colab": {
          "base_uri": "https://localhost:8080/"
        },
        "outputId": "cc7fff69-2151-4864-b7aa-3b1b00010ce0"
      },
      "source": [
        "data=np.zeros((10,10))\n",
        "np.put(data,np.random.choice(range(10*10),20,replace=False),1)\n",
        "data"
      ],
      "execution_count": null,
      "outputs": [
        {
          "output_type": "execute_result",
          "data": {
            "text/plain": [
              "array([[0., 0., 0., 1., 1., 0., 1., 0., 0., 0.],\n",
              "       [1., 0., 0., 0., 0., 0., 1., 0., 1., 0.],\n",
              "       [0., 0., 1., 0., 0., 0., 0., 0., 0., 0.],\n",
              "       [1., 0., 1., 0., 0., 0., 1., 0., 1., 0.],\n",
              "       [0., 0., 0., 0., 0., 0., 0., 0., 0., 1.],\n",
              "       [0., 0., 0., 0., 0., 0., 0., 0., 0., 0.],\n",
              "       [0., 0., 0., 0., 0., 1., 0., 1., 0., 1.],\n",
              "       [1., 0., 0., 1., 0., 0., 0., 0., 0., 1.],\n",
              "       [0., 0., 0., 0., 0., 0., 0., 0., 0., 0.],\n",
              "       [0., 1., 0., 0., 0., 0., 0., 0., 1., 0.]])"
            ]
          },
          "metadata": {},
          "execution_count": 37
        }
      ]
    },
    {
      "cell_type": "markdown",
      "metadata": {
        "id": "p9IDR6VtMvKO"
      },
      "source": [
        "#### 6.14「100の整数のランダム要素を持つ配列を作成し、その頻度を出力してください。」"
      ]
    },
    {
      "cell_type": "code",
      "metadata": {
        "id": "buUYOTp1MvKO",
        "colab": {
          "base_uri": "https://localhost:8080/"
        },
        "outputId": "1a827bb7-777f-42aa-9ab8-e4e515f4cb1a"
      },
      "source": [
        "data=np.random.randint(0,100,100)\n",
        "print(np.bincount(data))"
      ],
      "execution_count": null,
      "outputs": [
        {
          "output_type": "stream",
          "name": "stdout",
          "text": [
            "[1 0 1 0 1 1 0 3 0 2 1 1 1 0 1 0 2 1 0 0 0 0 0 1 1 1 0 1 0 0 0 1 0 0 2 2 2\n",
            " 0 1 3 1 0 1 4 1 0 2 0 0 1 1 0 3 0 0 0 0 1 1 3 3 1 2 3 2 1 0 1 0 3 0 1 2 2\n",
            " 5 1 3 2 2 1 0 0 1 1 2 2 2 0 0 0 0 0 3 2 1 0 0 1]\n"
          ]
        }
      ]
    },
    {
      "cell_type": "code",
      "metadata": {
        "id": "SpuZdXDdYUlQ"
      },
      "source": [
        ""
      ],
      "execution_count": null,
      "outputs": []
    }
  ]
}